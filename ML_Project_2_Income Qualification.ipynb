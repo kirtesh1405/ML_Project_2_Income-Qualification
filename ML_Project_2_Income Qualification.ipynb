{
 "cells": [
  {
   "cell_type": "markdown",
   "id": "117c884c",
   "metadata": {},
   "source": [
    "### DESCRIPTION\n",
    "\n",
    "Identify the level of income qualification needed for the families in Latin America.\n",
    "\n",
    "Problem Statement Scenario: Many social programs have a hard time ensuring that the right people are given enough aid. It’s tricky when a program focuses on the poorest segment of the population. This segment of the population can’t provide the necessary income and expense records to prove that they qualify.\n",
    "\n",
    "In Latin America, a popular method called Proxy Means Test (PMT) uses an algorithm to verify income qualification. With PMT, agencies use a model that considers a family’s observable household attributes like the material of their walls and ceiling or the assets found in their homes to classify them and predict their level of need.\n",
    "\n",
    "While this is an improvement, accuracy remains a problem as the region’s population grows and poverty declines.\n",
    "\n",
    "The Inter-American Development Bank (IDB)believes that new methods beyond traditional econometrics, based on a dataset of Costa Rican household characteristics, might help improve PMT’s performance. Following actions should be performed:\n",
    "\n",
    "* Identify the output variable.\n",
    "* Understand the type of data.\n",
    "* Check if there are any biases in your dataset.\n",
    "* Check whether all members of the house have the same poverty level.\n",
    "* Check if there is a house without a family head.\n",
    "* Set poverty level of the members and the head of the house within a family.\n",
    "* Count how many null values are existing in columns.\n",
    "* Remove null value rows of the target variable.\n",
    "* Predict the accuracy using random forest classifier.\n",
    "* Check the accuracy using random forest with cross validation."
   ]
  },
  {
   "cell_type": "code",
   "execution_count": 75,
   "id": "932a3f36",
   "metadata": {},
   "outputs": [
    {
     "name": "stderr",
     "output_type": "stream",
     "text": [
      "UsageError: Line magic function `%matplotlib.inline` not found.\n"
     ]
    }
   ],
   "source": [
    "# importing libraries\n",
    "\n",
    "import numpy as np\n",
    "import pandas as pd\n",
    "import matplotlib.pyplot as plt\n",
    "import seaborn as sns\n",
    "sns.set()\n",
    "\n",
    "%matplotlib.inline"
   ]
  },
  {
   "cell_type": "code",
   "execution_count": null,
   "id": "8f8de033",
   "metadata": {},
   "outputs": [],
   "source": [
    "# Load datasets\n",
    "iq_train = pd.read_csv('train.csv')\n",
    "iq_test = pd.read_csv('test.csv')"
   ]
  },
  {
   "cell_type": "code",
   "execution_count": null,
   "id": "af19054a",
   "metadata": {},
   "outputs": [],
   "source": [
    "iq_train.head()"
   ]
  },
  {
   "cell_type": "code",
   "execution_count": null,
   "id": "c3cfe33c",
   "metadata": {},
   "outputs": [],
   "source": [
    "iq_test.head()"
   ]
  },
  {
   "cell_type": "code",
   "execution_count": null,
   "id": "015f2774",
   "metadata": {},
   "outputs": [],
   "source": [
    "iq_train.shape"
   ]
  },
  {
   "cell_type": "code",
   "execution_count": null,
   "id": "8cd40af1",
   "metadata": {},
   "outputs": [],
   "source": [
    "iq_test.shape"
   ]
  },
  {
   "cell_type": "code",
   "execution_count": null,
   "id": "f41565c3",
   "metadata": {},
   "outputs": [],
   "source": [
    "iq_train.info()"
   ]
  },
  {
   "cell_type": "code",
   "execution_count": null,
   "id": "70f39b82",
   "metadata": {},
   "outputs": [],
   "source": [
    "iq_train.describe()"
   ]
  },
  {
   "cell_type": "markdown",
   "id": "f3b658e0",
   "metadata": {},
   "source": [
    "## 1. Identify the Output Variable"
   ]
  },
  {
   "cell_type": "code",
   "execution_count": null,
   "id": "5f7dfae1",
   "metadata": {},
   "outputs": [],
   "source": [
    "for i in iq_train.columns:\n",
    "    if i not in iq_test.columns:\n",
    "        print(\"Our Target variable is {}\".format(i))"
   ]
  },
  {
   "cell_type": "code",
   "execution_count": null,
   "id": "1abaeec9",
   "metadata": {},
   "outputs": [],
   "source": [
    "Y = iq_train['Target']"
   ]
  },
  {
   "cell_type": "code",
   "execution_count": null,
   "id": "3e8453c3",
   "metadata": {},
   "outputs": [],
   "source": [
    "plt.figure(figsize=(8,6))\n",
    "plt.hist(Y)\n",
    "plt.xlabel('Income Qualification Level')\n",
    "plt.title('Distribution of Income Qualification')\n",
    "plt.show()"
   ]
  },
  {
   "cell_type": "markdown",
   "id": "7cae7992",
   "metadata": {},
   "source": [
    "## 2. Understanding the type of data"
   ]
  },
  {
   "cell_type": "code",
   "execution_count": null,
   "id": "2eb9c3b2",
   "metadata": {},
   "outputs": [],
   "source": [
    "type(iq_train)"
   ]
  },
  {
   "cell_type": "code",
   "execution_count": null,
   "id": "a0ff4ca7",
   "metadata": {},
   "outputs": [],
   "source": [
    "iq_train.info()"
   ]
  },
  {
   "cell_type": "code",
   "execution_count": null,
   "id": "8e0e6089",
   "metadata": {},
   "outputs": [],
   "source": [
    "print(iq_train.dtypes.value_counts())"
   ]
  },
  {
   "cell_type": "markdown",
   "id": "cf189392",
   "metadata": {},
   "source": [
    "#### We have mixed data types. Specified as below:\n",
    "\n",
    "* float64 : 8 variables\n",
    "* int64 : 130 vriables\n",
    "* object :5 variables"
   ]
  },
  {
   "cell_type": "code",
   "execution_count": null,
   "id": "c6f72f1e",
   "metadata": {},
   "outputs": [],
   "source": [
    "#lets explore each different types of datasets\n",
    "for i in iq_train.columns:\n",
    "    a=iq_train[i].dtype\n",
    "    if a == 'object':\n",
    "        print(i)"
   ]
  },
  {
   "cell_type": "markdown",
   "id": "49930af4",
   "metadata": {},
   "source": [
    "Id\n",
    "idhogar\n",
    "dependency\n",
    "edjefe\n",
    "edjefa\n",
    "Below is Data dictionary for above object variables\n",
    "\n",
    "* ID = Unique ID\n",
    "* idhogar, Household level identifier\n",
    "* dependency, Dependency rate, calculated = (number of members of the household younger than 19 or older than 64)/(number of member of household between 19 and 64)\n",
    "* edjefe, years of education of male head of household, based on the interaction of escolari (years of education), head of household and gender, yes=1 and no=0\n",
    "* edjefa, years of education of female head of household, based on the interaction of escolari (years of education), head of household and gender, yes=1 and no=0"
   ]
  },
  {
   "cell_type": "markdown",
   "id": "dbedfb06",
   "metadata": {},
   "source": [
    "## 3. Check if there are any biases in your dataset."
   ]
  },
  {
   "cell_type": "code",
   "execution_count": null,
   "id": "c7b984e9",
   "metadata": {},
   "outputs": [],
   "source": [
    "iq_train['Target'].value_counts()"
   ]
  },
  {
   "cell_type": "code",
   "execution_count": null,
   "id": "5e4795c9",
   "metadata": {},
   "outputs": [],
   "source": [
    "iq_train['Target'].hist()\n",
    "plt.xlabel('Income Qualification Level')\n",
    "plt.title('Distribution of Income Qualification')\n",
    "plt.show()"
   ]
  },
  {
   "cell_type": "markdown",
   "id": "8d214799",
   "metadata": {},
   "source": [
    "### Comment:-   The distribution of the target variable above shows that the data is biased towards the 4th class as it has more number of observations than others."
   ]
  },
  {
   "cell_type": "markdown",
   "id": "573580e3",
   "metadata": {},
   "source": [
    "## 4. Check whether all members of the house have the same poverty level."
   ]
  },
  {
   "cell_type": "code",
   "execution_count": null,
   "id": "d9a481cd",
   "metadata": {},
   "outputs": [],
   "source": [
    "# assuming idhogar is unique id for household\n",
    "\n",
    "non_p_level = sum(iq_train.groupby('idhogar')['Target'].nunique()!=1)\n",
    "\n",
    "print('Houses with non same poverty level of all the members : ',non_p_level)"
   ]
  },
  {
   "cell_type": "code",
   "execution_count": null,
   "id": "36ddb9c1",
   "metadata": {},
   "outputs": [],
   "source": [
    "mem_p_level = iq_train.groupby('idhogar')['r4t3'].unique().sum()\n",
    "\n",
    "print('Houses with same poverty level of all the members : ',mem_p_level)"
   ]
  },
  {
   "cell_type": "markdown",
   "id": "300d7718",
   "metadata": {},
   "source": [
    "**Comment:-**  We can say that there are 85 households where all members of the house do not have same poverty level"
   ]
  },
  {
   "cell_type": "markdown",
   "id": "c67ffe32",
   "metadata": {},
   "source": [
    "## 5. Check if there is a house without a family head."
   ]
  },
  {
   "cell_type": "code",
   "execution_count": null,
   "id": "2fa7cc41",
   "metadata": {},
   "outputs": [],
   "source": [
    "House_without_Family_head = sum(iq_train.groupby('idhogar')['parentesco1'].sum()==0)\n",
    "\n",
    "print(\"Hence we can say that there are\", House_without_Family_head, \"houses without a family head\")"
   ]
  },
  {
   "cell_type": "markdown",
   "id": "95011f69",
   "metadata": {},
   "source": [
    "**Commnets:-** Hence we can say that there are 15 houses without a family head"
   ]
  },
  {
   "cell_type": "markdown",
   "id": "9b9bee74",
   "metadata": {},
   "source": [
    "## 6. Set poverty level of the members and the head of the house within a family."
   ]
  },
  {
   "cell_type": "code",
   "execution_count": null,
   "id": "33a45768",
   "metadata": {},
   "outputs": [],
   "source": [
    "house_pov = iq_train.groupby ('idhogar').agg ({'Target' : 'nunique'}).Target\n",
    "for house in house_pov [house_pov > 1].index :\n",
    "    pov_level = iq_train.loc [(iq_train.idhogar == house) | (iq_train.parentesco1 == 1), 'Target'].values [0]\n",
    "    iq_train.loc [iq_train.idhogar == house, 'Target'] = pov_level\n",
    "house_pov = iq_train.groupby ('idhogar').agg ({'Target' : 'nunique'}).Target\n",
    "print ('\\nNumber of household at different poverty levels =', (house_pov > 1).sum ())"
   ]
  },
  {
   "cell_type": "markdown",
   "id": "014c0350",
   "metadata": {},
   "source": [
    "## 7. Count how many null values are existing in columns"
   ]
  },
  {
   "cell_type": "code",
   "execution_count": null,
   "id": "c808990e",
   "metadata": {},
   "outputs": [],
   "source": [
    "# To check for count of missing values in the columns\n",
    " \n",
    "iq_train.isna().sum()[iq_train.isna().any()]"
   ]
  },
  {
   "cell_type": "markdown",
   "id": "71e1c25d",
   "metadata": {},
   "source": [
    "1. We can see that we have huge no. of missing values in the columns, v2a1, v18q1, rez_esc. Hence, we can drop these columns.\n",
    "2. We can also see missing values in meaneduc and SQBmeaned, having 5 missing values each. We can see the summary statistics of these columns to decide whether to replace with mean or median values"
   ]
  },
  {
   "cell_type": "code",
   "execution_count": 76,
   "id": "c67dc4c5",
   "metadata": {},
   "outputs": [
    {
     "data": {
      "image/png": "[encoded data removed]",
      "text/plain": [
       "<Figure size 1440x720 with 1 Axes>"
      ]
     },
     "metadata": {},
     "output_type": "display_data"
    }
   ],
   "source": [
    "plt.figure(figsize=(20,10))\n",
    "plt.plot(iq_train.isnull().sum())\n",
    "plt.xticks(rotation='vertical')\n",
    "plt.show()"
   ]
  },
  {
   "cell_type": "code",
   "execution_count": 77,
   "id": "84f81281",
   "metadata": {},
   "outputs": [
    {
     "data": {
      "text/plain": [
       "array([0], dtype=int64)"
      ]
     },
     "execution_count": 77,
     "metadata": {},
     "output_type": "execute_result"
    }
   ],
   "source": [
    "# Treating null values for v18q1 column\n",
    "# v18q1 in nan can also mean that household owns 0 number of tablet. For this we can verify the v18q column value in which v18q1 is null\n",
    "\n",
    "\n",
    "iq_test[iq_test['v18q1'].isnull()]['v18q'].unique()"
   ]
  },
  {
   "cell_type": "markdown",
   "id": "9f28b46c",
   "metadata": {},
   "source": [
    "From above code we are checking the value of v18q when v18q1 is nan. Since it is 0 we can conclude that when household does not not own tablet(v18q=0), we have null value in v18q1. Hence we can initialize the null value in v18q1 to 0."
   ]
  },
  {
   "cell_type": "code",
   "execution_count": 78,
   "id": "2f5cfa5d",
   "metadata": {},
   "outputs": [
    {
     "data": {
      "text/plain": [
       "0        False\n",
       "1        False\n",
       "2        False\n",
       "3        False\n",
       "4        False\n",
       "         ...  \n",
       "23851    False\n",
       "23852    False\n",
       "23853    False\n",
       "23854    False\n",
       "23855    False\n",
       "Name: v18q1, Length: 23856, dtype: bool"
      ]
     },
     "execution_count": 78,
     "metadata": {},
     "output_type": "execute_result"
    }
   ],
   "source": [
    "iq_train.loc[iq_train['v18q1'].isnull(),'v18q1'] = 0\n",
    "iq_train['v18q1'].isnull()\n",
    "\n",
    "iq_test.loc[iq_test['v18q1'].isnull(),'v18q1'] = 0\n",
    "iq_test['v18q1'].isnull()"
   ]
  },
  {
   "cell_type": "code",
   "execution_count": 79,
   "id": "9548f228",
   "metadata": {},
   "outputs": [
    {
     "data": {
      "image/png": "[encoded data removed]",
      "text/plain": [
       "<Figure size 720x576 with 1 Axes>"
      ]
     },
     "metadata": {},
     "output_type": "display_data"
    }
   ],
   "source": [
    "# Treating null values for v2a1 column\n",
    "# Since monthly rent payment depends on the factor that whenther house is owned or rented. For the house owned rent payment can be 0.\n",
    "# Hence we need to check the tipovivi1, tipovivi2, tipovivi3, tipovivi4, tipovivi5 values\n",
    "# Variables indicating home ownership\n",
    "own_variables = [x for x in iq_train if x.startswith('tipo')]\n",
    "\n",
    "# Plot of the home ownership variables for home missing rent payments\n",
    "iq_train.loc[iq_train['v2a1'].isnull(), own_variables].sum().plot.bar(figsize = (10, 8),\n",
    "                                                                        color = 'green',\n",
    "                                                              edgecolor = 'k', linewidth = 2);\n",
    "plt.xticks([0, 1, 2, 3, 4],\n",
    "           ['Owns and Paid Off', 'Owns and Paying', 'Rented', 'Precarious', 'Other'],\n",
    "          rotation = 20)\n",
    "plt.title('Home Ownership Status for Households Missing Rent Payments', size = 18);"
   ]
  },
  {
   "cell_type": "markdown",
   "id": "25af41d6",
   "metadata": {},
   "source": [
    "Since the house rent payment is null mostly for house owned, we will sit house rent payment 0 where it is missing."
   ]
  },
  {
   "cell_type": "code",
   "execution_count": 80,
   "id": "10cae9a4",
   "metadata": {},
   "outputs": [
    {
     "data": {
      "text/plain": [
       "0        False\n",
       "1        False\n",
       "2        False\n",
       "3        False\n",
       "4        False\n",
       "         ...  \n",
       "23851    False\n",
       "23852    False\n",
       "23853    False\n",
       "23854    False\n",
       "23855    False\n",
       "Name: v2a1, Length: 23856, dtype: bool"
      ]
     },
     "execution_count": 80,
     "metadata": {},
     "output_type": "execute_result"
    }
   ],
   "source": [
    "iq_train.loc[iq_train['v2a1'].isnull(),'v2a1'] = 0\n",
    "iq_train['v2a1'].isnull()\n",
    "\n",
    "iq_test.loc[iq_test['v2a1'].isnull(),'v2a1'] = 0\n",
    "iq_test['v2a1'].isnull()"
   ]
  },
  {
   "cell_type": "code",
   "execution_count": 81,
   "id": "80edfbb0",
   "metadata": {},
   "outputs": [
    {
     "data": {
      "text/plain": [
       "count    7928.000000\n",
       "mean       38.833249\n",
       "std        20.989486\n",
       "min         0.000000\n",
       "25%        24.000000\n",
       "50%        38.000000\n",
       "75%        54.000000\n",
       "max        97.000000\n",
       "Name: age, dtype: float64"
      ]
     },
     "execution_count": 81,
     "metadata": {},
     "output_type": "execute_result"
    }
   ],
   "source": [
    "# Treating null values for column rez_esc\n",
    "# rez_esc or years behind in school can be null for household having no children. So we will look the ages of household members for which rez_esc is null\n",
    "\n",
    "iq_train[iq_train['rez_esc'].isnull()]['age'].describe()"
   ]
  },
  {
   "cell_type": "code",
   "execution_count": 82,
   "id": "ad4b47f2",
   "metadata": {},
   "outputs": [
    {
     "data": {
      "text/plain": [
       "array([43, 67, 92, 37, 38, 30, 28, 18, 34, 79, 39, 19, 70, 50, 22, 26, 69,\n",
       "       66, 41, 20, 40, 44, 62, 33, 35, 56, 52, 36, 24, 76, 94, 45, 48, 42,\n",
       "       71, 29, 55,  1, 60, 74, 57, 31, 89, 59,  4, 46, 75, 78, 53, 63, 51,\n",
       "       21, 47, 49, 68, 73, 97, 72,  6,  5, 58, 27,  3,  2, 61, 25,  0, 23,\n",
       "       54, 32, 65, 77, 81, 88, 64, 87, 82, 95, 80, 85, 83, 84, 90, 86, 91,\n",
       "       93, 10], dtype=int64)"
      ]
     },
     "execution_count": 82,
     "metadata": {},
     "output_type": "execute_result"
    }
   ],
   "source": [
    "iq_train[(iq_train['rez_esc'].isnull())]['age'].unique()"
   ]
  },
  {
   "cell_type": "markdown",
   "id": "aa46a4a0",
   "metadata": {},
   "source": [
    "Since for individuals having age < 7 and > 19 years behind in school is null. We can assume it as 0 because the individuals below 7 years age and above 19 years will not be going to school"
   ]
  },
  {
   "cell_type": "code",
   "execution_count": 83,
   "id": "2380530f",
   "metadata": {},
   "outputs": [],
   "source": [
    "iq_train.loc[(iq_train['rez_esc'].isnull()), 'rez_esc'] = 0\n",
    "iq_test.loc[(iq_test['rez_esc'].isnull()), 'rez_esc'] = 0"
   ]
  },
  {
   "cell_type": "code",
   "execution_count": 84,
   "id": "6280ae0e",
   "metadata": {},
   "outputs": [],
   "source": [
    "# Treating meanedu null values\n",
    "\n",
    "iq_train.loc[(iq_train['meaneduc'].isnull()), 'meaneduc'] = 0\n",
    "iq_test.loc[(iq_test['meaneduc'].isnull()), 'meaneduc'] = 0"
   ]
  },
  {
   "cell_type": "code",
   "execution_count": 85,
   "id": "972595ef",
   "metadata": {},
   "outputs": [
    {
     "name": "stdout",
     "output_type": "stream",
     "text": [
      "Number of null value columns in training dataset  {}\n",
      "Number of null value columns in testing dataset  {}\n"
     ]
    }
   ],
   "source": [
    "# We will again check the null values\n",
    "\n",
    "dict = {}\n",
    "def checkNull(df):\n",
    "    for col in df.columns:\n",
    "        if df[col].isnull().any():\n",
    "            dict[col] = df[col].isnull().sum()\n",
    "\n",
    "checkNull(iq_train)\n",
    "print('Number of null value columns in training dataset ',dict)\n",
    "checkNull(iq_test)\n",
    "print('Number of null value columns in testing dataset ',dict)"
   ]
  },
  {
   "cell_type": "markdown",
   "id": "19e71278",
   "metadata": {},
   "source": [
    "## 8. Remove null value rows of the target variable."
   ]
  },
  {
   "cell_type": "code",
   "execution_count": 90,
   "id": "f11eb2bc",
   "metadata": {},
   "outputs": [
    {
     "data": {
      "text/plain": [
       "False"
      ]
     },
     "execution_count": 90,
     "metadata": {},
     "output_type": "execute_result"
    }
   ],
   "source": [
    "iq_train['Target'].isnull().any()"
   ]
  },
  {
   "cell_type": "code",
   "execution_count": 91,
   "id": "7048c44c",
   "metadata": {},
   "outputs": [
    {
     "data": {
      "text/html": [
       "<div>\n",
       "<style scoped>\n",
       "    .dataframe tbody tr th:only-of-type {\n",
       "        vertical-align: middle;\n",
       "    }\n",
       "\n",
       "    .dataframe tbody tr th {\n",
       "        vertical-align: top;\n",
       "    }\n",
       "\n",
       "    .dataframe thead th {\n",
       "        text-align: right;\n",
       "    }\n",
       "</style>\n",
       "<table border=\"1\" class=\"dataframe\">\n",
       "  <thead>\n",
       "    <tr style=\"text-align: right;\">\n",
       "      <th></th>\n",
       "      <th>Id</th>\n",
       "      <th>v2a1</th>\n",
       "      <th>hacdor</th>\n",
       "      <th>rooms</th>\n",
       "      <th>hacapo</th>\n",
       "      <th>v14a</th>\n",
       "      <th>refrig</th>\n",
       "      <th>v18q</th>\n",
       "      <th>v18q1</th>\n",
       "      <th>r4h1</th>\n",
       "      <th>...</th>\n",
       "      <th>lugar1</th>\n",
       "      <th>lugar2</th>\n",
       "      <th>lugar3</th>\n",
       "      <th>lugar4</th>\n",
       "      <th>lugar5</th>\n",
       "      <th>lugar6</th>\n",
       "      <th>area1</th>\n",
       "      <th>area2</th>\n",
       "      <th>age</th>\n",
       "      <th>Target</th>\n",
       "    </tr>\n",
       "  </thead>\n",
       "  <tbody>\n",
       "    <tr>\n",
       "      <th>0</th>\n",
       "      <td>ID_279628684</td>\n",
       "      <td>190000.0</td>\n",
       "      <td>0</td>\n",
       "      <td>3</td>\n",
       "      <td>0</td>\n",
       "      <td>1</td>\n",
       "      <td>1</td>\n",
       "      <td>0</td>\n",
       "      <td>0.0</td>\n",
       "      <td>0</td>\n",
       "      <td>...</td>\n",
       "      <td>1</td>\n",
       "      <td>0</td>\n",
       "      <td>0</td>\n",
       "      <td>0</td>\n",
       "      <td>0</td>\n",
       "      <td>0</td>\n",
       "      <td>1</td>\n",
       "      <td>0</td>\n",
       "      <td>43</td>\n",
       "      <td>4</td>\n",
       "    </tr>\n",
       "    <tr>\n",
       "      <th>1</th>\n",
       "      <td>ID_f29eb3ddd</td>\n",
       "      <td>135000.0</td>\n",
       "      <td>0</td>\n",
       "      <td>4</td>\n",
       "      <td>0</td>\n",
       "      <td>1</td>\n",
       "      <td>1</td>\n",
       "      <td>1</td>\n",
       "      <td>1.0</td>\n",
       "      <td>0</td>\n",
       "      <td>...</td>\n",
       "      <td>1</td>\n",
       "      <td>0</td>\n",
       "      <td>0</td>\n",
       "      <td>0</td>\n",
       "      <td>0</td>\n",
       "      <td>0</td>\n",
       "      <td>1</td>\n",
       "      <td>0</td>\n",
       "      <td>67</td>\n",
       "      <td>4</td>\n",
       "    </tr>\n",
       "    <tr>\n",
       "      <th>2</th>\n",
       "      <td>ID_68de51c94</td>\n",
       "      <td>0.0</td>\n",
       "      <td>0</td>\n",
       "      <td>8</td>\n",
       "      <td>0</td>\n",
       "      <td>1</td>\n",
       "      <td>1</td>\n",
       "      <td>0</td>\n",
       "      <td>0.0</td>\n",
       "      <td>0</td>\n",
       "      <td>...</td>\n",
       "      <td>1</td>\n",
       "      <td>0</td>\n",
       "      <td>0</td>\n",
       "      <td>0</td>\n",
       "      <td>0</td>\n",
       "      <td>0</td>\n",
       "      <td>1</td>\n",
       "      <td>0</td>\n",
       "      <td>92</td>\n",
       "      <td>4</td>\n",
       "    </tr>\n",
       "    <tr>\n",
       "      <th>3</th>\n",
       "      <td>ID_d671db89c</td>\n",
       "      <td>180000.0</td>\n",
       "      <td>0</td>\n",
       "      <td>5</td>\n",
       "      <td>0</td>\n",
       "      <td>1</td>\n",
       "      <td>1</td>\n",
       "      <td>1</td>\n",
       "      <td>1.0</td>\n",
       "      <td>0</td>\n",
       "      <td>...</td>\n",
       "      <td>1</td>\n",
       "      <td>0</td>\n",
       "      <td>0</td>\n",
       "      <td>0</td>\n",
       "      <td>0</td>\n",
       "      <td>0</td>\n",
       "      <td>1</td>\n",
       "      <td>0</td>\n",
       "      <td>17</td>\n",
       "      <td>4</td>\n",
       "    </tr>\n",
       "    <tr>\n",
       "      <th>4</th>\n",
       "      <td>ID_d56d6f5f5</td>\n",
       "      <td>180000.0</td>\n",
       "      <td>0</td>\n",
       "      <td>5</td>\n",
       "      <td>0</td>\n",
       "      <td>1</td>\n",
       "      <td>1</td>\n",
       "      <td>1</td>\n",
       "      <td>1.0</td>\n",
       "      <td>0</td>\n",
       "      <td>...</td>\n",
       "      <td>1</td>\n",
       "      <td>0</td>\n",
       "      <td>0</td>\n",
       "      <td>0</td>\n",
       "      <td>0</td>\n",
       "      <td>0</td>\n",
       "      <td>1</td>\n",
       "      <td>0</td>\n",
       "      <td>37</td>\n",
       "      <td>4</td>\n",
       "    </tr>\n",
       "    <tr>\n",
       "      <th>...</th>\n",
       "      <td>...</td>\n",
       "      <td>...</td>\n",
       "      <td>...</td>\n",
       "      <td>...</td>\n",
       "      <td>...</td>\n",
       "      <td>...</td>\n",
       "      <td>...</td>\n",
       "      <td>...</td>\n",
       "      <td>...</td>\n",
       "      <td>...</td>\n",
       "      <td>...</td>\n",
       "      <td>...</td>\n",
       "      <td>...</td>\n",
       "      <td>...</td>\n",
       "      <td>...</td>\n",
       "      <td>...</td>\n",
       "      <td>...</td>\n",
       "      <td>...</td>\n",
       "      <td>...</td>\n",
       "      <td>...</td>\n",
       "      <td>...</td>\n",
       "    </tr>\n",
       "    <tr>\n",
       "      <th>9552</th>\n",
       "      <td>ID_d45ae367d</td>\n",
       "      <td>80000.0</td>\n",
       "      <td>0</td>\n",
       "      <td>6</td>\n",
       "      <td>0</td>\n",
       "      <td>1</td>\n",
       "      <td>1</td>\n",
       "      <td>0</td>\n",
       "      <td>0.0</td>\n",
       "      <td>0</td>\n",
       "      <td>...</td>\n",
       "      <td>0</td>\n",
       "      <td>0</td>\n",
       "      <td>0</td>\n",
       "      <td>0</td>\n",
       "      <td>0</td>\n",
       "      <td>1</td>\n",
       "      <td>0</td>\n",
       "      <td>1</td>\n",
       "      <td>46</td>\n",
       "      <td>2</td>\n",
       "    </tr>\n",
       "    <tr>\n",
       "      <th>9553</th>\n",
       "      <td>ID_c94744e07</td>\n",
       "      <td>80000.0</td>\n",
       "      <td>0</td>\n",
       "      <td>6</td>\n",
       "      <td>0</td>\n",
       "      <td>1</td>\n",
       "      <td>1</td>\n",
       "      <td>0</td>\n",
       "      <td>0.0</td>\n",
       "      <td>0</td>\n",
       "      <td>...</td>\n",
       "      <td>0</td>\n",
       "      <td>0</td>\n",
       "      <td>0</td>\n",
       "      <td>0</td>\n",
       "      <td>0</td>\n",
       "      <td>1</td>\n",
       "      <td>0</td>\n",
       "      <td>1</td>\n",
       "      <td>2</td>\n",
       "      <td>2</td>\n",
       "    </tr>\n",
       "    <tr>\n",
       "      <th>9554</th>\n",
       "      <td>ID_85fc658f8</td>\n",
       "      <td>80000.0</td>\n",
       "      <td>0</td>\n",
       "      <td>6</td>\n",
       "      <td>0</td>\n",
       "      <td>1</td>\n",
       "      <td>1</td>\n",
       "      <td>0</td>\n",
       "      <td>0.0</td>\n",
       "      <td>0</td>\n",
       "      <td>...</td>\n",
       "      <td>0</td>\n",
       "      <td>0</td>\n",
       "      <td>0</td>\n",
       "      <td>0</td>\n",
       "      <td>0</td>\n",
       "      <td>1</td>\n",
       "      <td>0</td>\n",
       "      <td>1</td>\n",
       "      <td>50</td>\n",
       "      <td>2</td>\n",
       "    </tr>\n",
       "    <tr>\n",
       "      <th>9555</th>\n",
       "      <td>ID_ced540c61</td>\n",
       "      <td>80000.0</td>\n",
       "      <td>0</td>\n",
       "      <td>6</td>\n",
       "      <td>0</td>\n",
       "      <td>1</td>\n",
       "      <td>1</td>\n",
       "      <td>0</td>\n",
       "      <td>0.0</td>\n",
       "      <td>0</td>\n",
       "      <td>...</td>\n",
       "      <td>0</td>\n",
       "      <td>0</td>\n",
       "      <td>0</td>\n",
       "      <td>0</td>\n",
       "      <td>0</td>\n",
       "      <td>1</td>\n",
       "      <td>0</td>\n",
       "      <td>1</td>\n",
       "      <td>26</td>\n",
       "      <td>2</td>\n",
       "    </tr>\n",
       "    <tr>\n",
       "      <th>9556</th>\n",
       "      <td>ID_a38c64491</td>\n",
       "      <td>80000.0</td>\n",
       "      <td>0</td>\n",
       "      <td>6</td>\n",
       "      <td>0</td>\n",
       "      <td>1</td>\n",
       "      <td>1</td>\n",
       "      <td>0</td>\n",
       "      <td>0.0</td>\n",
       "      <td>0</td>\n",
       "      <td>...</td>\n",
       "      <td>0</td>\n",
       "      <td>0</td>\n",
       "      <td>0</td>\n",
       "      <td>0</td>\n",
       "      <td>0</td>\n",
       "      <td>1</td>\n",
       "      <td>0</td>\n",
       "      <td>1</td>\n",
       "      <td>21</td>\n",
       "      <td>2</td>\n",
       "    </tr>\n",
       "  </tbody>\n",
       "</table>\n",
       "<p>9557 rows × 134 columns</p>\n",
       "</div>"
      ],
      "text/plain": [
       "                Id      v2a1  hacdor  rooms  hacapo  v14a  refrig  v18q  \\\n",
       "0     ID_279628684  190000.0       0      3       0     1       1     0   \n",
       "1     ID_f29eb3ddd  135000.0       0      4       0     1       1     1   \n",
       "2     ID_68de51c94       0.0       0      8       0     1       1     0   \n",
       "3     ID_d671db89c  180000.0       0      5       0     1       1     1   \n",
       "4     ID_d56d6f5f5  180000.0       0      5       0     1       1     1   \n",
       "...            ...       ...     ...    ...     ...   ...     ...   ...   \n",
       "9552  ID_d45ae367d   80000.0       0      6       0     1       1     0   \n",
       "9553  ID_c94744e07   80000.0       0      6       0     1       1     0   \n",
       "9554  ID_85fc658f8   80000.0       0      6       0     1       1     0   \n",
       "9555  ID_ced540c61   80000.0       0      6       0     1       1     0   \n",
       "9556  ID_a38c64491   80000.0       0      6       0     1       1     0   \n",
       "\n",
       "      v18q1  r4h1  ...  lugar1  lugar2  lugar3  lugar4  lugar5  lugar6  area1  \\\n",
       "0       0.0     0  ...       1       0       0       0       0       0      1   \n",
       "1       1.0     0  ...       1       0       0       0       0       0      1   \n",
       "2       0.0     0  ...       1       0       0       0       0       0      1   \n",
       "3       1.0     0  ...       1       0       0       0       0       0      1   \n",
       "4       1.0     0  ...       1       0       0       0       0       0      1   \n",
       "...     ...   ...  ...     ...     ...     ...     ...     ...     ...    ...   \n",
       "9552    0.0     0  ...       0       0       0       0       0       1      0   \n",
       "9553    0.0     0  ...       0       0       0       0       0       1      0   \n",
       "9554    0.0     0  ...       0       0       0       0       0       1      0   \n",
       "9555    0.0     0  ...       0       0       0       0       0       1      0   \n",
       "9556    0.0     0  ...       0       0       0       0       0       1      0   \n",
       "\n",
       "      area2  age  Target  \n",
       "0         0   43       4  \n",
       "1         0   67       4  \n",
       "2         0   92       4  \n",
       "3         0   17       4  \n",
       "4         0   37       4  \n",
       "...     ...  ...     ...  \n",
       "9552      1   46       2  \n",
       "9553      1    2       2  \n",
       "9554      1   50       2  \n",
       "9555      1   26       2  \n",
       "9556      1   21       2  \n",
       "\n",
       "[9557 rows x 134 columns]"
      ]
     },
     "execution_count": 91,
     "metadata": {},
     "output_type": "execute_result"
    }
   ],
   "source": [
    "iq_train[iq_train['Target'].isnull()==False]"
   ]
  },
  {
   "cell_type": "markdown",
   "id": "2011deba",
   "metadata": {},
   "source": [
    "## 9. Predict the accuracy using random forest classifier"
   ]
  },
  {
   "cell_type": "code",
   "execution_count": 102,
   "id": "965a5f69",
   "metadata": {},
   "outputs": [
    {
     "name": "stderr",
     "output_type": "stream",
     "text": [
      "C:\\Users\\Kirtesh Pawar\\AppData\\Local\\Temp\\ipykernel_20484\\2472567833.py:7: DeprecationWarning: `np.bool` is a deprecated alias for the builtin `bool`. To silence this warning, use `bool` by itself. Doing this will not modify any behavior and is safe. If you specifically wanted the numpy scalar type, use `np.bool_` here.\n",
      "Deprecated in NumPy 1.20; for more details and guidance: https://numpy.org/devdocs/release/1.20.0-notes.html#deprecations\n",
      "  upper = corr_matrix.where(np.triu(np.ones(corr_matrix.shape), k=1).astype(np.bool))\n"
     ]
    },
    {
     "data": {
      "text/plain": [
       "['tamhog', 'hhsize', 'coopele', 'female', 'hogar_total', 'area2']"
      ]
     },
     "execution_count": 102,
     "metadata": {},
     "output_type": "execute_result"
    }
   ],
   "source": [
    "# We will drop column in a pair having correlation > 0.95\n",
    "\n",
    "# Create correlation matrix\n",
    "corr_matrix = iq_train.corr()\n",
    "\n",
    "# Select upper triangle of correlation matrix\n",
    "upper = corr_matrix.where(np.triu(np.ones(corr_matrix.shape), k=1).astype(np.bool))\n",
    "\n",
    "# Find index of feature columns with correlation greater than 0.95\n",
    "to_drop = [column for column in upper.columns if any(abs(upper[column]) > 0.95)]\n",
    "to_drop"
   ]
  },
  {
   "cell_type": "code",
   "execution_count": 103,
   "id": "89a32c22",
   "metadata": {},
   "outputs": [
    {
     "data": {
      "text/plain": [
       "(9557, 134)"
      ]
     },
     "execution_count": 103,
     "metadata": {},
     "output_type": "execute_result"
    }
   ],
   "source": [
    "iq_train.shape"
   ]
  },
  {
   "cell_type": "code",
   "execution_count": 104,
   "id": "253ef9c8",
   "metadata": {},
   "outputs": [
    {
     "data": {
      "text/plain": [
       "(23856, 133)"
      ]
     },
     "execution_count": 104,
     "metadata": {},
     "output_type": "execute_result"
    }
   ],
   "source": [
    "iq_test.shape"
   ]
  },
  {
   "cell_type": "code",
   "execution_count": 105,
   "id": "eb139ce8",
   "metadata": {},
   "outputs": [],
   "source": [
    "# label encoding object types\n",
    "\n",
    "from sklearn.preprocessing import LabelEncoder"
   ]
  },
  {
   "cell_type": "code",
   "execution_count": 106,
   "id": "66e91969",
   "metadata": {},
   "outputs": [],
   "source": [
    "lbl = LabelEncoder()"
   ]
  },
  {
   "cell_type": "code",
   "execution_count": 107,
   "id": "b1c8b1c6",
   "metadata": {},
   "outputs": [
    {
     "data": {
      "text/html": [
       "<div>\n",
       "<style scoped>\n",
       "    .dataframe tbody tr th:only-of-type {\n",
       "        vertical-align: middle;\n",
       "    }\n",
       "\n",
       "    .dataframe tbody tr th {\n",
       "        vertical-align: top;\n",
       "    }\n",
       "\n",
       "    .dataframe thead th {\n",
       "        text-align: right;\n",
       "    }\n",
       "</style>\n",
       "<table border=\"1\" class=\"dataframe\">\n",
       "  <thead>\n",
       "    <tr style=\"text-align: right;\">\n",
       "      <th></th>\n",
       "      <th>Id</th>\n",
       "      <th>idhogar</th>\n",
       "    </tr>\n",
       "  </thead>\n",
       "  <tbody>\n",
       "    <tr>\n",
       "      <th>0</th>\n",
       "      <td>ID_279628684</td>\n",
       "      <td>21eb7fcc1</td>\n",
       "    </tr>\n",
       "    <tr>\n",
       "      <th>1</th>\n",
       "      <td>ID_f29eb3ddd</td>\n",
       "      <td>0e5d7a658</td>\n",
       "    </tr>\n",
       "    <tr>\n",
       "      <th>2</th>\n",
       "      <td>ID_68de51c94</td>\n",
       "      <td>2c7317ea8</td>\n",
       "    </tr>\n",
       "    <tr>\n",
       "      <th>3</th>\n",
       "      <td>ID_d671db89c</td>\n",
       "      <td>2b58d945f</td>\n",
       "    </tr>\n",
       "    <tr>\n",
       "      <th>4</th>\n",
       "      <td>ID_d56d6f5f5</td>\n",
       "      <td>2b58d945f</td>\n",
       "    </tr>\n",
       "  </tbody>\n",
       "</table>\n",
       "</div>"
      ],
      "text/plain": [
       "             Id    idhogar\n",
       "0  ID_279628684  21eb7fcc1\n",
       "1  ID_f29eb3ddd  0e5d7a658\n",
       "2  ID_68de51c94  2c7317ea8\n",
       "3  ID_d671db89c  2b58d945f\n",
       "4  ID_d56d6f5f5  2b58d945f"
      ]
     },
     "execution_count": 107,
     "metadata": {},
     "output_type": "execute_result"
    }
   ],
   "source": [
    "iq_train.select_dtypes('object').head()"
   ]
  },
  {
   "cell_type": "code",
   "execution_count": 108,
   "id": "b76af1fb",
   "metadata": {},
   "outputs": [],
   "source": [
    "iq_train['dependency'] = lbl.fit_transform(iq_train['dependency'])\n",
    "iq_train['edjefe'] = lbl.fit_transform(iq_train['edjefe'])\n",
    "iq_train['edjefa'] = lbl.fit_transform(iq_train['edjefa'])\n",
    "\n",
    "iq_test['dependency'] = lbl.fit_transform(iq_test['dependency'])\n",
    "iq_test['edjefe'] = lbl.fit_transform(iq_test['edjefe'])\n",
    "iq_test['edjefa'] = lbl.fit_transform(iq_test['edjefa'])"
   ]
  },
  {
   "cell_type": "code",
   "execution_count": 109,
   "id": "d6744019",
   "metadata": {},
   "outputs": [
    {
     "data": {
      "text/html": [
       "<div>\n",
       "<style scoped>\n",
       "    .dataframe tbody tr th:only-of-type {\n",
       "        vertical-align: middle;\n",
       "    }\n",
       "\n",
       "    .dataframe tbody tr th {\n",
       "        vertical-align: top;\n",
       "    }\n",
       "\n",
       "    .dataframe thead th {\n",
       "        text-align: right;\n",
       "    }\n",
       "</style>\n",
       "<table border=\"1\" class=\"dataframe\">\n",
       "  <thead>\n",
       "    <tr style=\"text-align: right;\">\n",
       "      <th></th>\n",
       "      <th>v2a1</th>\n",
       "      <th>v18q1</th>\n",
       "      <th>rez_esc</th>\n",
       "      <th>meaneduc</th>\n",
       "      <th>overcrowding</th>\n",
       "    </tr>\n",
       "  </thead>\n",
       "  <tbody>\n",
       "    <tr>\n",
       "      <th>0</th>\n",
       "      <td>190000.0</td>\n",
       "      <td>0.0</td>\n",
       "      <td>0.0</td>\n",
       "      <td>10.0</td>\n",
       "      <td>1.000000</td>\n",
       "    </tr>\n",
       "    <tr>\n",
       "      <th>1</th>\n",
       "      <td>135000.0</td>\n",
       "      <td>1.0</td>\n",
       "      <td>0.0</td>\n",
       "      <td>12.0</td>\n",
       "      <td>1.000000</td>\n",
       "    </tr>\n",
       "    <tr>\n",
       "      <th>2</th>\n",
       "      <td>0.0</td>\n",
       "      <td>0.0</td>\n",
       "      <td>0.0</td>\n",
       "      <td>11.0</td>\n",
       "      <td>0.500000</td>\n",
       "    </tr>\n",
       "    <tr>\n",
       "      <th>3</th>\n",
       "      <td>180000.0</td>\n",
       "      <td>1.0</td>\n",
       "      <td>1.0</td>\n",
       "      <td>11.0</td>\n",
       "      <td>1.333333</td>\n",
       "    </tr>\n",
       "    <tr>\n",
       "      <th>4</th>\n",
       "      <td>180000.0</td>\n",
       "      <td>1.0</td>\n",
       "      <td>0.0</td>\n",
       "      <td>11.0</td>\n",
       "      <td>1.333333</td>\n",
       "    </tr>\n",
       "  </tbody>\n",
       "</table>\n",
       "</div>"
      ],
      "text/plain": [
       "       v2a1  v18q1  rez_esc  meaneduc  overcrowding\n",
       "0  190000.0    0.0      0.0      10.0      1.000000\n",
       "1  135000.0    1.0      0.0      12.0      1.000000\n",
       "2       0.0    0.0      0.0      11.0      0.500000\n",
       "3  180000.0    1.0      1.0      11.0      1.333333\n",
       "4  180000.0    1.0      0.0      11.0      1.333333"
      ]
     },
     "execution_count": 109,
     "metadata": {},
     "output_type": "execute_result"
    }
   ],
   "source": [
    "iq_train.select_dtypes('float').head()"
   ]
  },
  {
   "cell_type": "code",
   "execution_count": 110,
   "id": "7b3b21b8",
   "metadata": {},
   "outputs": [],
   "source": [
    "# Since the value of monthly payment rent is too large we will try to normalize it by dividing it by it's mean\n",
    "\n",
    "iq_train['v2a1'] = round(iq_train['v2a1']/iq_train['v2a1'].mean(),2)\n",
    "iq_test['v2a1'] = round(iq_test['v2a1']/iq_test['v2a1'].mean(),2)"
   ]
  },
  {
   "cell_type": "code",
   "execution_count": 111,
   "id": "69c116b7",
   "metadata": {},
   "outputs": [],
   "source": [
    "# rounding of overcrowding column to 2 decimal places\n",
    "\n",
    "iq_train['overcrowding'] = round(iq_train['overcrowding'],2)\n",
    "iq_test['overcrowding'] = round(iq_test['overcrowding'],2)"
   ]
  },
  {
   "cell_type": "code",
   "execution_count": 112,
   "id": "5df245df",
   "metadata": {},
   "outputs": [],
   "source": [
    "from sklearn.ensemble import RandomForestClassifier"
   ]
  },
  {
   "cell_type": "code",
   "execution_count": 113,
   "id": "b4ce3919",
   "metadata": {},
   "outputs": [],
   "source": [
    "model = RandomForestClassifier(n_estimators=100, random_state=10, \n",
    "                               n_jobs = -1)"
   ]
  },
  {
   "cell_type": "code",
   "execution_count": 114,
   "id": "7ea32517",
   "metadata": {},
   "outputs": [],
   "source": [
    "# dropping Id, idhogar and target column to build training dataframe\n",
    "\n",
    "X = iq_train.drop(['Id','Target','idhogar'], axis=1)"
   ]
  },
  {
   "cell_type": "code",
   "execution_count": 115,
   "id": "1f06d29f",
   "metadata": {},
   "outputs": [
    {
     "data": {
      "text/plain": [
       "RandomForestClassifier(n_jobs=-1, random_state=10)"
      ]
     },
     "execution_count": 115,
     "metadata": {},
     "output_type": "execute_result"
    }
   ],
   "source": [
    "model.fit(X, Y)"
   ]
  },
  {
   "cell_type": "code",
   "execution_count": 116,
   "id": "69b5dca9",
   "metadata": {},
   "outputs": [],
   "source": [
    "X_test = iq_test.drop(['Id','idhogar'], axis=1)"
   ]
  },
  {
   "cell_type": "code",
   "execution_count": 117,
   "id": "fbfc71d0",
   "metadata": {},
   "outputs": [
    {
     "data": {
      "text/plain": [
       "array([4, 4, 4, ..., 4, 4, 4], dtype=int64)"
      ]
     },
     "execution_count": 117,
     "metadata": {},
     "output_type": "execute_result"
    }
   ],
   "source": [
    "# predicting the values for testing dataset\n",
    "\n",
    "model.predict(X_test)"
   ]
  },
  {
   "cell_type": "markdown",
   "id": "f48dcea7",
   "metadata": {},
   "source": [
    "## 10. Check the accuracy using random forest with cross validation."
   ]
  },
  {
   "cell_type": "code",
   "execution_count": 118,
   "id": "8aed7b8e",
   "metadata": {},
   "outputs": [],
   "source": [
    "from sklearn.model_selection import cross_val_score\n",
    "all_accuracies = cross_val_score(estimator=model, X=X, y=Y, cv=10)"
   ]
  },
  {
   "cell_type": "code",
   "execution_count": 119,
   "id": "7476afe2",
   "metadata": {},
   "outputs": [
    {
     "data": {
      "text/plain": [
       "0.6395071085894543"
      ]
     },
     "execution_count": 119,
     "metadata": {},
     "output_type": "execute_result"
    }
   ],
   "source": [
    "all_accuracies.mean()"
   ]
  },
  {
   "cell_type": "markdown",
   "id": "d9a39494",
   "metadata": {},
   "source": [
    "Hence we have predicted the accuracy using 10 fold sampling. Accuracy of the model is 63.9%"
   ]
  },
  {
   "cell_type": "code",
   "execution_count": null,
   "id": "57002a0e",
   "metadata": {},
   "outputs": [],
   "source": []
  }
 ],
 "metadata": {
  "kernelspec": {
   "display_name": "Python 3 (ipykernel)",
   "language": "python",
   "name": "python3"
  },
  "language_info": {
   "codemirror_mode": {
    "name": "ipython",
    "version": 3
   },
   "file_extension": ".py",
   "mimetype": "text/x-python",
   "name": "python",
   "nbconvert_exporter": "python",
   "pygments_lexer": "ipython3",
   "version": "3.9.12"
  }
 },
 "nbformat": 4,
 "nbformat_minor": 5
}
